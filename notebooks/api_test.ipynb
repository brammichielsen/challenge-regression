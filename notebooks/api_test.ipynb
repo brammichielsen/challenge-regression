{
 "cells": [
  {
   "cell_type": "code",
   "execution_count": 8,
   "metadata": {},
   "outputs": [
    {
     "name": "stdout",
     "output_type": "stream",
     "text": [
      "Prediction failed. Status Code: 500\n"
     ]
    }
   ],
   "source": [
    "import requests \n",
    "\n",
    "# Data to be sent in the request body\n",
    "new_house_data = {\n",
    "    \"data\": {\n",
    "        \"Living area\": 120,\n",
    "        \"Subtype of property\": \"APARTMENT\",\n",
    "        \"Number of bedrooms\": 3,\n",
    "        \"Garden\": True,\n",
    "        \"Garden area\": 30,\n",
    "        \"Equipped-kitchen\": True,\n",
    "        \"Kitchen\": True,\n",
    "        \"Swimming pool\": False,\n",
    "        \"Terrace\": False,\n",
    "        \"Number of facades\": 2,\n",
    "        \"State of the building\": \"GOOD\"\n",
    "    }\n",
    "}\n",
    "\n",
    "# Make the POST request with the JSON data in the request body\n",
    "url = \"http://127.0.0.1:8000/predict\"  \n",
    "response = requests.post(url, json=new_house_data)\n",
    "\n",
    "# Check the response\n",
    "if response.status_code == 200:\n",
    "    print(\"Prediction successful!\")\n",
    "    print(\"Response JSON:\", response.json())\n",
    "else:\n",
    "    print(\"Prediction failed. Status Code:\", response.status_code)"
   ]
  }
 ],
 "metadata": {
  "kernelspec": {
   "display_name": "eliza-2",
   "language": "python",
   "name": "python3"
  },
  "language_info": {
   "codemirror_mode": {
    "name": "ipython",
    "version": 3
   },
   "file_extension": ".py",
   "mimetype": "text/x-python",
   "name": "python",
   "nbconvert_exporter": "python",
   "pygments_lexer": "ipython3",
   "version": "3.11.4"
  },
  "orig_nbformat": 4
 },
 "nbformat": 4,
 "nbformat_minor": 2
}
