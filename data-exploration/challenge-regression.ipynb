{
 "cells": [
  {
   "cell_type": "markdown",
   "metadata": {},
   "source": [
    "### 1. Data cleaning"
   ]
  },
  {
   "cell_type": "markdown",
   "metadata": {},
   "source": [
    "#### 1.1. Data import"
   ]
  },
  {
   "cell_type": "code",
   "execution_count": 1,
   "metadata": {},
   "outputs": [],
   "source": [
    "import pandas as pd\n",
    "\n",
    "#take dataset that was previously scraped, preprocessed and analyzed\n",
    "file_path = \"../data/property_data.csv\"\n",
    "data = pd.read_csv(file_path)"
   ]
  },
  {
   "cell_type": "markdown",
   "metadata": {},
   "source": [
    "#### 1.2. Duplicates and garbage"
   ]
  },
  {
   "cell_type": "code",
   "execution_count": 2,
   "metadata": {},
   "outputs": [],
   "source": [
    "#no duplicates\n",
    "data.drop_duplicates(inplace=True)  # drop duplicate rows\n",
    "\n",
    "#drop irrelevant data\n",
    "data.drop(['Raw num:','URL', 'ID number', 'Type of Sale', 'Locality', 'Zip code'], axis=1, inplace=True) # drop irrelevant columns"
   ]
  },
  {
   "cell_type": "markdown",
   "metadata": {},
   "source": [
    "#### 1.3. NaNs"
   ]
  },
  {
   "cell_type": "code",
   "execution_count": 3,
   "metadata": {},
   "outputs": [],
   "source": [
    "# drop rows that have NaN values in essential columns\n",
    "data.dropna(subset=['Price of property in euro','Number of bedrooms','Living area'], inplace=True)\n",
    "\n",
    "# fill NaN values with 0 in columns where this seems like a safe assumption\n",
    "clean_values = {'Kitchen': 0, 'Terrace': 0, 'Garden': 0, 'Swimming pool': 0}\n",
    "data.fillna(clean_values, inplace=True)\n",
    "\n",
    "# drop (non-essential) columns which contain  NaN values\n",
    "data.dropna(axis='columns', inplace=True)"
   ]
  },
  {
   "cell_type": "markdown",
   "metadata": {},
   "source": [
    "#### [intermezzo: check for unicity of property types and subtypes]"
   ]
  },
  {
   "cell_type": "code",
   "execution_count": 4,
   "metadata": {},
   "outputs": [
    {
     "name": "stdout",
     "output_type": "stream",
     "text": [
      "The types of property: ['house' 'apartment']\n",
      "The subtypes of property: ['house' 'exceptional property' 'villa' 'mansion' 'apartment' 'penthouse'\n",
      " 'duplex' 'loft' 'mixed use building' 'flat studio' 'apartment block'\n",
      " 'town house' 'country cottage' 'service flat' 'bungalow' 'ground floor'\n",
      " 'triplex' 'kot' 'castle' 'other property' 'chalet' 'manor house'\n",
      " 'farmhouse']\n",
      "The unique subtypes of houses: ['house' 'exceptional property' 'villa' 'mansion' 'mixed use building'\n",
      " 'apartment block' 'town house' 'country cottage' 'bungalow' 'castle'\n",
      " 'other property' 'chalet' 'manor house' 'farmhouse']\n",
      "The unique subtypes of apartments: ['apartment' 'penthouse' 'duplex' 'loft' 'flat studio' 'service flat'\n",
      " 'ground floor' 'triplex' 'kot']\n",
      "There is no overlap between subtypes of houses and apartments.\n"
     ]
    }
   ],
   "source": [
    "unique_values_property = data['Type of property'].unique()\n",
    "print(\"The types of property:\", unique_values_property)\n",
    "\n",
    "unique_values_subtype = data['Subtype of property'].unique()\n",
    "print(\"The subtypes of property:\", unique_values_subtype)\n",
    "\n",
    "# extract unique values from the 'Subtype of property' column for houses and apartments\n",
    "houses = data[data['Type of property'] == 'house']['Subtype of property'].unique()\n",
    "apartments = data[data['Type of property'] == 'apartment']['Subtype of property'].unique()\n",
    "\n",
    "print(\"The unique subtypes of houses:\", houses)\n",
    "print(\"The unique subtypes of apartments:\", apartments)\n",
    "\n",
    "# find the intersection of unique subtypes between houses and apartments\n",
    "subtype_overlap = set(houses) & set(apartments)\n",
    "\n",
    "if subtype_overlap:\n",
    "    print(\"There is an overlap between subtypes of houses and apartments.\")\n",
    "    print(\"Overlapping subtypes:\", subtype_overlap)\n",
    "else:\n",
    "    print(\"There is no overlap between subtypes of houses and apartments.\")\n",
    "\n",
    "# so we can drop the 'property type' column"
   ]
  },
  {
   "cell_type": "markdown",
   "metadata": {},
   "source": [
    "#### 1.4. Categorical and numerical data"
   ]
  },
  {
   "cell_type": "code",
   "execution_count": 5,
   "metadata": {},
   "outputs": [
    {
     "name": "stdout",
     "output_type": "stream",
     "text": [
      "11013 rows \n",
      "30 columns\n"
     ]
    },
    {
     "data": {
      "text/html": [
       "<div>\n",
       "<style scoped>\n",
       "    .dataframe tbody tr th:only-of-type {\n",
       "        vertical-align: middle;\n",
       "    }\n",
       "\n",
       "    .dataframe tbody tr th {\n",
       "        vertical-align: top;\n",
       "    }\n",
       "\n",
       "    .dataframe thead th {\n",
       "        text-align: right;\n",
       "    }\n",
       "</style>\n",
       "<table border=\"1\" class=\"dataframe\">\n",
       "  <thead>\n",
       "    <tr style=\"text-align: right;\">\n",
       "      <th></th>\n",
       "      <th>Kitchen</th>\n",
       "      <th>Price of property in euro</th>\n",
       "      <th>Number of bedrooms</th>\n",
       "      <th>Living area</th>\n",
       "      <th>Terrace</th>\n",
       "      <th>Garden</th>\n",
       "      <th>Swimming pool</th>\n",
       "      <th>Subtype_apartment</th>\n",
       "      <th>Subtype_apartment block</th>\n",
       "      <th>Subtype_bungalow</th>\n",
       "      <th>...</th>\n",
       "      <th>Subtype_loft</th>\n",
       "      <th>Subtype_manor house</th>\n",
       "      <th>Subtype_mansion</th>\n",
       "      <th>Subtype_mixed use building</th>\n",
       "      <th>Subtype_other property</th>\n",
       "      <th>Subtype_penthouse</th>\n",
       "      <th>Subtype_service flat</th>\n",
       "      <th>Subtype_town house</th>\n",
       "      <th>Subtype_triplex</th>\n",
       "      <th>Subtype_villa</th>\n",
       "    </tr>\n",
       "  </thead>\n",
       "  <tbody>\n",
       "    <tr>\n",
       "      <th>0</th>\n",
       "      <td>1</td>\n",
       "      <td>149000</td>\n",
       "      <td>2</td>\n",
       "      <td>105</td>\n",
       "      <td>1</td>\n",
       "      <td>1</td>\n",
       "      <td>0</td>\n",
       "      <td>0</td>\n",
       "      <td>0</td>\n",
       "      <td>0</td>\n",
       "      <td>...</td>\n",
       "      <td>0</td>\n",
       "      <td>0</td>\n",
       "      <td>0</td>\n",
       "      <td>0</td>\n",
       "      <td>0</td>\n",
       "      <td>0</td>\n",
       "      <td>0</td>\n",
       "      <td>0</td>\n",
       "      <td>0</td>\n",
       "      <td>0</td>\n",
       "    </tr>\n",
       "    <tr>\n",
       "      <th>1</th>\n",
       "      <td>1</td>\n",
       "      <td>319000</td>\n",
       "      <td>3</td>\n",
       "      <td>154</td>\n",
       "      <td>0</td>\n",
       "      <td>1</td>\n",
       "      <td>0</td>\n",
       "      <td>0</td>\n",
       "      <td>0</td>\n",
       "      <td>0</td>\n",
       "      <td>...</td>\n",
       "      <td>0</td>\n",
       "      <td>0</td>\n",
       "      <td>0</td>\n",
       "      <td>0</td>\n",
       "      <td>0</td>\n",
       "      <td>0</td>\n",
       "      <td>0</td>\n",
       "      <td>0</td>\n",
       "      <td>0</td>\n",
       "      <td>0</td>\n",
       "    </tr>\n",
       "    <tr>\n",
       "      <th>2</th>\n",
       "      <td>1</td>\n",
       "      <td>320000</td>\n",
       "      <td>3</td>\n",
       "      <td>88</td>\n",
       "      <td>1</td>\n",
       "      <td>1</td>\n",
       "      <td>0</td>\n",
       "      <td>0</td>\n",
       "      <td>0</td>\n",
       "      <td>0</td>\n",
       "      <td>...</td>\n",
       "      <td>0</td>\n",
       "      <td>0</td>\n",
       "      <td>0</td>\n",
       "      <td>0</td>\n",
       "      <td>0</td>\n",
       "      <td>0</td>\n",
       "      <td>0</td>\n",
       "      <td>0</td>\n",
       "      <td>0</td>\n",
       "      <td>0</td>\n",
       "    </tr>\n",
       "    <tr>\n",
       "      <th>3</th>\n",
       "      <td>1</td>\n",
       "      <td>960000</td>\n",
       "      <td>6</td>\n",
       "      <td>400</td>\n",
       "      <td>1</td>\n",
       "      <td>1</td>\n",
       "      <td>0</td>\n",
       "      <td>0</td>\n",
       "      <td>0</td>\n",
       "      <td>0</td>\n",
       "      <td>...</td>\n",
       "      <td>0</td>\n",
       "      <td>0</td>\n",
       "      <td>0</td>\n",
       "      <td>0</td>\n",
       "      <td>0</td>\n",
       "      <td>0</td>\n",
       "      <td>0</td>\n",
       "      <td>0</td>\n",
       "      <td>0</td>\n",
       "      <td>0</td>\n",
       "    </tr>\n",
       "    <tr>\n",
       "      <th>4</th>\n",
       "      <td>1</td>\n",
       "      <td>498000</td>\n",
       "      <td>5</td>\n",
       "      <td>140</td>\n",
       "      <td>1</td>\n",
       "      <td>1</td>\n",
       "      <td>0</td>\n",
       "      <td>0</td>\n",
       "      <td>0</td>\n",
       "      <td>0</td>\n",
       "      <td>...</td>\n",
       "      <td>0</td>\n",
       "      <td>0</td>\n",
       "      <td>0</td>\n",
       "      <td>0</td>\n",
       "      <td>0</td>\n",
       "      <td>0</td>\n",
       "      <td>0</td>\n",
       "      <td>0</td>\n",
       "      <td>0</td>\n",
       "      <td>1</td>\n",
       "    </tr>\n",
       "    <tr>\n",
       "      <th>...</th>\n",
       "      <td>...</td>\n",
       "      <td>...</td>\n",
       "      <td>...</td>\n",
       "      <td>...</td>\n",
       "      <td>...</td>\n",
       "      <td>...</td>\n",
       "      <td>...</td>\n",
       "      <td>...</td>\n",
       "      <td>...</td>\n",
       "      <td>...</td>\n",
       "      <td>...</td>\n",
       "      <td>...</td>\n",
       "      <td>...</td>\n",
       "      <td>...</td>\n",
       "      <td>...</td>\n",
       "      <td>...</td>\n",
       "      <td>...</td>\n",
       "      <td>...</td>\n",
       "      <td>...</td>\n",
       "      <td>...</td>\n",
       "      <td>...</td>\n",
       "    </tr>\n",
       "    <tr>\n",
       "      <th>11191</th>\n",
       "      <td>1</td>\n",
       "      <td>379000</td>\n",
       "      <td>2</td>\n",
       "      <td>104</td>\n",
       "      <td>1</td>\n",
       "      <td>0</td>\n",
       "      <td>0</td>\n",
       "      <td>1</td>\n",
       "      <td>0</td>\n",
       "      <td>0</td>\n",
       "      <td>...</td>\n",
       "      <td>0</td>\n",
       "      <td>0</td>\n",
       "      <td>0</td>\n",
       "      <td>0</td>\n",
       "      <td>0</td>\n",
       "      <td>0</td>\n",
       "      <td>0</td>\n",
       "      <td>0</td>\n",
       "      <td>0</td>\n",
       "      <td>0</td>\n",
       "    </tr>\n",
       "    <tr>\n",
       "      <th>11192</th>\n",
       "      <td>1</td>\n",
       "      <td>359000</td>\n",
       "      <td>2</td>\n",
       "      <td>98</td>\n",
       "      <td>1</td>\n",
       "      <td>0</td>\n",
       "      <td>0</td>\n",
       "      <td>1</td>\n",
       "      <td>0</td>\n",
       "      <td>0</td>\n",
       "      <td>...</td>\n",
       "      <td>0</td>\n",
       "      <td>0</td>\n",
       "      <td>0</td>\n",
       "      <td>0</td>\n",
       "      <td>0</td>\n",
       "      <td>0</td>\n",
       "      <td>0</td>\n",
       "      <td>0</td>\n",
       "      <td>0</td>\n",
       "      <td>0</td>\n",
       "    </tr>\n",
       "    <tr>\n",
       "      <th>11193</th>\n",
       "      <td>1</td>\n",
       "      <td>139500</td>\n",
       "      <td>2</td>\n",
       "      <td>90</td>\n",
       "      <td>0</td>\n",
       "      <td>0</td>\n",
       "      <td>0</td>\n",
       "      <td>0</td>\n",
       "      <td>0</td>\n",
       "      <td>0</td>\n",
       "      <td>...</td>\n",
       "      <td>0</td>\n",
       "      <td>0</td>\n",
       "      <td>0</td>\n",
       "      <td>0</td>\n",
       "      <td>0</td>\n",
       "      <td>0</td>\n",
       "      <td>0</td>\n",
       "      <td>0</td>\n",
       "      <td>0</td>\n",
       "      <td>0</td>\n",
       "    </tr>\n",
       "    <tr>\n",
       "      <th>11194</th>\n",
       "      <td>0</td>\n",
       "      <td>448000</td>\n",
       "      <td>1</td>\n",
       "      <td>46</td>\n",
       "      <td>0</td>\n",
       "      <td>0</td>\n",
       "      <td>0</td>\n",
       "      <td>1</td>\n",
       "      <td>0</td>\n",
       "      <td>0</td>\n",
       "      <td>...</td>\n",
       "      <td>0</td>\n",
       "      <td>0</td>\n",
       "      <td>0</td>\n",
       "      <td>0</td>\n",
       "      <td>0</td>\n",
       "      <td>0</td>\n",
       "      <td>0</td>\n",
       "      <td>0</td>\n",
       "      <td>0</td>\n",
       "      <td>0</td>\n",
       "    </tr>\n",
       "    <tr>\n",
       "      <th>11195</th>\n",
       "      <td>0</td>\n",
       "      <td>259000</td>\n",
       "      <td>1</td>\n",
       "      <td>70</td>\n",
       "      <td>1</td>\n",
       "      <td>0</td>\n",
       "      <td>0</td>\n",
       "      <td>1</td>\n",
       "      <td>0</td>\n",
       "      <td>0</td>\n",
       "      <td>...</td>\n",
       "      <td>0</td>\n",
       "      <td>0</td>\n",
       "      <td>0</td>\n",
       "      <td>0</td>\n",
       "      <td>0</td>\n",
       "      <td>0</td>\n",
       "      <td>0</td>\n",
       "      <td>0</td>\n",
       "      <td>0</td>\n",
       "      <td>0</td>\n",
       "    </tr>\n",
       "  </tbody>\n",
       "</table>\n",
       "<p>11013 rows × 30 columns</p>\n",
       "</div>"
      ],
      "text/plain": [
       "       Kitchen  Price of property in euro  Number of bedrooms  Living area  \\\n",
       "0            1                     149000                   2          105   \n",
       "1            1                     319000                   3          154   \n",
       "2            1                     320000                   3           88   \n",
       "3            1                     960000                   6          400   \n",
       "4            1                     498000                   5          140   \n",
       "...        ...                        ...                 ...          ...   \n",
       "11191        1                     379000                   2          104   \n",
       "11192        1                     359000                   2           98   \n",
       "11193        1                     139500                   2           90   \n",
       "11194        0                     448000                   1           46   \n",
       "11195        0                     259000                   1           70   \n",
       "\n",
       "       Terrace  Garden  Swimming pool  Subtype_apartment  \\\n",
       "0            1       1              0                  0   \n",
       "1            0       1              0                  0   \n",
       "2            1       1              0                  0   \n",
       "3            1       1              0                  0   \n",
       "4            1       1              0                  0   \n",
       "...        ...     ...            ...                ...   \n",
       "11191        1       0              0                  1   \n",
       "11192        1       0              0                  1   \n",
       "11193        0       0              0                  0   \n",
       "11194        0       0              0                  1   \n",
       "11195        1       0              0                  1   \n",
       "\n",
       "       Subtype_apartment block  Subtype_bungalow  ...  Subtype_loft  \\\n",
       "0                            0                 0  ...             0   \n",
       "1                            0                 0  ...             0   \n",
       "2                            0                 0  ...             0   \n",
       "3                            0                 0  ...             0   \n",
       "4                            0                 0  ...             0   \n",
       "...                        ...               ...  ...           ...   \n",
       "11191                        0                 0  ...             0   \n",
       "11192                        0                 0  ...             0   \n",
       "11193                        0                 0  ...             0   \n",
       "11194                        0                 0  ...             0   \n",
       "11195                        0                 0  ...             0   \n",
       "\n",
       "       Subtype_manor house  Subtype_mansion  Subtype_mixed use building  \\\n",
       "0                        0                0                           0   \n",
       "1                        0                0                           0   \n",
       "2                        0                0                           0   \n",
       "3                        0                0                           0   \n",
       "4                        0                0                           0   \n",
       "...                    ...              ...                         ...   \n",
       "11191                    0                0                           0   \n",
       "11192                    0                0                           0   \n",
       "11193                    0                0                           0   \n",
       "11194                    0                0                           0   \n",
       "11195                    0                0                           0   \n",
       "\n",
       "       Subtype_other property  Subtype_penthouse  Subtype_service flat  \\\n",
       "0                           0                  0                     0   \n",
       "1                           0                  0                     0   \n",
       "2                           0                  0                     0   \n",
       "3                           0                  0                     0   \n",
       "4                           0                  0                     0   \n",
       "...                       ...                ...                   ...   \n",
       "11191                       0                  0                     0   \n",
       "11192                       0                  0                     0   \n",
       "11193                       0                  0                     0   \n",
       "11194                       0                  0                     0   \n",
       "11195                       0                  0                     0   \n",
       "\n",
       "       Subtype_town house  Subtype_triplex  Subtype_villa  \n",
       "0                       0                0              0  \n",
       "1                       0                0              0  \n",
       "2                       0                0              0  \n",
       "3                       0                0              0  \n",
       "4                       0                0              1  \n",
       "...                   ...              ...            ...  \n",
       "11191                   0                0              0  \n",
       "11192                   0                0              0  \n",
       "11193                   0                0              0  \n",
       "11194                   0                0              0  \n",
       "11195                   0                0              0  \n",
       "\n",
       "[11013 rows x 30 columns]"
      ]
     },
     "metadata": {},
     "output_type": "display_data"
    }
   ],
   "source": [
    "#drop property type column since it is covered by the property subtype column\n",
    "data.drop(['Type of property'], axis=1, inplace=True)\n",
    "\n",
    "# Step 1: Perform one-hot encoding\n",
    "one_hot_encoding = pd.get_dummies(data['Subtype of property'], prefix='Subtype', dtype=int)\n",
    "\n",
    "# Step 2: Drop the original 'Subtype of property' column\n",
    "data.drop('Subtype of property', axis=1, inplace=True)\n",
    "\n",
    "# Step 3: Concatenate the one-hot encoded DataFrame with the original 'data' DataFrame\n",
    "data = pd.concat([data, one_hot_encoding], axis=1)\n",
    "\n",
    "# Assuming your DataFrame is named 'data'\n",
    "data = data.astype(int)\n",
    "\n",
    "print(str(data.shape[0]) + \" rows \\n\" + str(data.shape[1]) + \" columns\")\n",
    "display(data)"
   ]
  },
  {
   "cell_type": "code",
   "execution_count": 6,
   "metadata": {},
   "outputs": [],
   "source": [
    "#select features and preprocess them as needed"
   ]
  },
  {
   "cell_type": "code",
   "execution_count": 7,
   "metadata": {},
   "outputs": [],
   "source": [
    "#remove features that have too strong correlation between them"
   ]
  },
  {
   "cell_type": "markdown",
   "metadata": {},
   "source": [
    "### 2. Data formatting"
   ]
  },
  {
   "cell_type": "markdown",
   "metadata": {},
   "source": [
    "#### 2.1. Divide dataset for training and testing"
   ]
  },
  {
   "cell_type": "code",
   "execution_count": 9,
   "metadata": {},
   "outputs": [
    {
     "name": "stdout",
     "output_type": "stream",
     "text": [
      "Training data shape: (8810, 29) (8810,)\n",
      "Testing data shape: (2203, 29) (2203,)\n"
     ]
    }
   ],
   "source": [
    "from sklearn.model_selection import train_test_split\n",
    "\n",
    "# Separate the target variable (Price of property in euro) from the features\n",
    "X = data.drop('Price of property in euro', axis=1)\n",
    "y = data['Price of property in euro']\n",
    "\n",
    "# Perform the Train-Test split with an 80-20 ratio\n",
    "# Random_state is set for testing/reproducibility\n",
    "X_train, X_test, y_train, y_test = train_test_split(X, y, test_size=0.2, random_state=42)\n",
    "\n",
    "# Print the shapes of the resulting datasets to verify the split\n",
    "print(\"Training data shape:\", X_train.shape, y_train.shape)\n",
    "print(\"Testing data shape:\", X_test.shape, y_test.shape)"
   ]
  },
  {
   "cell_type": "code",
   "execution_count": 11,
   "metadata": {},
   "outputs": [],
   "source": [
    "from sklearn.preprocessing import MinMaxScaler\n",
    "\n",
    "# Apply Min-Max scaling to the training data\n",
    "min_max_scaler = MinMaxScaler()\n",
    "X_train_scaled = min_max_scaler.fit_transform(X_train)\n",
    "\n",
    "# Apply Min-Max scaling to the testing data\n",
    "X_test_scaled = min_max_scaler.transform(X_test)"
   ]
  },
  {
   "cell_type": "markdown",
   "metadata": {},
   "source": [
    "### 3. Model selection"
   ]
  },
  {
   "cell_type": "markdown",
   "metadata": {},
   "source": [
    "#### 3.1. Linear regression model"
   ]
  },
  {
   "cell_type": "code",
   "execution_count": 13,
   "metadata": {},
   "outputs": [
    {
     "name": "stdout",
     "output_type": "stream",
     "text": [
      "[ 259212.  633624.  386708. ... 1321508.  363448.  478796.]\n"
     ]
    }
   ],
   "source": [
    "from sklearn.linear_model import LinearRegression\n",
    "\n",
    "model = LinearRegression()"
   ]
  },
  {
   "cell_type": "code",
   "execution_count": null,
   "metadata": {},
   "outputs": [],
   "source": [
    "#once your pipeline is fully ready, explore at least one more regression model"
   ]
  },
  {
   "cell_type": "markdown",
   "metadata": {},
   "source": [
    "### 4. Train your model"
   ]
  },
  {
   "cell_type": "markdown",
   "metadata": {},
   "source": [
    "#### 4.1. Train model on data"
   ]
  },
  {
   "cell_type": "code",
   "execution_count": 14,
   "metadata": {},
   "outputs": [],
   "source": [
    "model.fit(X_train_scaled, y_train)\n",
    "\n",
    "y_pred = model.predict(X_test_scaled)"
   ]
  },
  {
   "cell_type": "markdown",
   "metadata": {},
   "source": [
    "### 5. Model evaluation"
   ]
  },
  {
   "cell_type": "code",
   "execution_count": null,
   "metadata": {},
   "outputs": [
    {
     "data": {
      "text/plain": [
       "\"\\nLet's evaluate your model with an appropriate metric. \\nWhat is a good measure of performance for your model?\\n\\nTry to answer following questions:\\n- How could you improve this result?\\n- Which part of the process has the most impact on the results?\\n- How should you divide your time working on this kind of project?\\n\""
      ]
     },
     "execution_count": 212,
     "metadata": {},
     "output_type": "execute_result"
    }
   ],
   "source": [
    "'''\n",
    "Let's evaluate your model with an appropriate metric. \n",
    "What is a good measure of performance for your model?\n",
    "\n",
    "Try to answer following questions:\n",
    "- How could you improve this result?\n",
    "- Which part of the process has the most impact on the results?\n",
    "- How should you divide your time working on this kind of project?\n",
    "'''\n",
    "\n",
    "# still to test\n",
    "\n",
    "# Calculate R2 score on the test data\n",
    "r2_score = model.score(X_test_scaled, y_test)\n",
    "print(\"R2 Score:\", r2_score)"
   ]
  },
  {
   "cell_type": "code",
   "execution_count": null,
   "metadata": {},
   "outputs": [],
   "source": [
    "# still to test\n",
    "\n",
    "from sklearn.metrics import mean_squared_error, mean_absolute_error\n",
    "\n",
    "# Make predictions on the test data\n",
    "y_pred = model.predict(X_test_scaled)\n",
    "\n",
    "# Calculate MSE\n",
    "mse = mean_squared_error(y_test, y_pred)\n",
    "print(\"Mean Squared Error:\", mse)\n",
    "\n",
    "# Calculate RMSE\n",
    "rmse = mean_squared_error(y_test, y_pred, squared=False)\n",
    "print(\"Root Mean Squared Error:\", rmse)\n",
    "\n",
    "# Calculate MAE\n",
    "mae = mean_absolute_error(y_test, y_pred)\n",
    "print(\"Mean Absolute Error:\", mae)"
   ]
  },
  {
   "cell_type": "markdown",
   "metadata": {},
   "source": [
    "### 6. Model explainability"
   ]
  },
  {
   "cell_type": "code",
   "execution_count": null,
   "metadata": {},
   "outputs": [
    {
     "data": {
      "text/plain": [
       "'\\nNext to the overall performance of the model, it is also important to be able to explain to some degree how a model forms its predictions, or what contributes to its performance. Think about these questions:\\n- Which are the most important features to predict the price? How do you know?\\n- How do the insights from your modeling relate to those from you data exploration? (i.e. is there any evidence from your visuals that support your modeling results?)\\n\\n'"
      ]
     },
     "execution_count": 213,
     "metadata": {},
     "output_type": "execute_result"
    }
   ],
   "source": [
    "'''\n",
    "Next to the overall performance of the model, it is also important to be able to explain to some degree how a model forms its predictions, or what contributes to its performance. Think about these questions:\n",
    "- Which are the most important features to predict the price? How do you know?\n",
    "- How do the insights from your modeling relate to those from you data exploration? (i.e. is there any evidence from your visuals that support your modeling results?)\n",
    "\n",
    "'''"
   ]
  }
 ],
 "metadata": {
  "kernelspec": {
   "display_name": "eliza-2",
   "language": "python",
   "name": "python3"
  },
  "language_info": {
   "codemirror_mode": {
    "name": "ipython",
    "version": 3
   },
   "file_extension": ".py",
   "mimetype": "text/x-python",
   "name": "python",
   "nbconvert_exporter": "python",
   "pygments_lexer": "ipython3",
   "version": "3.11.3"
  },
  "orig_nbformat": 4
 },
 "nbformat": 4,
 "nbformat_minor": 2
}
