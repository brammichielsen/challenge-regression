{
 "cells": [
  {
   "cell_type": "markdown",
   "metadata": {},
   "source": [
    "### 1. Data cleaning"
   ]
  },
  {
   "cell_type": "markdown",
   "metadata": {},
   "source": [
    "#### 1.1. Data import"
   ]
  },
  {
   "cell_type": "code",
   "execution_count": 5,
   "metadata": {},
   "outputs": [],
   "source": [
    "import pandas as pd\n",
    "\n",
    "def read_dataset(file_path):\n",
    "    \"\"\"\n",
    "    Reads a dataset from a CSV file and returns it as a Pandas DataFrame.\n",
    "\n",
    "    Parameters:\n",
    "    file_path (str): The path to the CSV file.\n",
    "\n",
    "    Returns:\n",
    "    DataFrame: The dataset read from the CSV file.\n",
    "    \"\"\"\n",
    "    data = pd.read_csv(file_path)\n",
    "    return data\n",
    "    "
   ]
  },
  {
   "cell_type": "markdown",
   "metadata": {},
   "source": [
    "#### 1.2. Duplicates, garbage and NaN's"
   ]
  },
  {
   "cell_type": "code",
   "execution_count": 2,
   "metadata": {},
   "outputs": [],
   "source": [
    "import pandas as pd\n",
    "\n",
    "def clean_data(data):\n",
    "    \"\"\"\n",
    "    Clean the input dataset by performing the following operations:\n",
    "    1. Drop duplicate rows.\n",
    "    2. Drop irrelevant columns.\n",
    "    3. Drop rows with NaN values in essential columns.\n",
    "    4. Fill NaN values with 0 in specified columns.\n",
    "    5. Drop columns containing NaN values.\n",
    "\n",
    "    Parameters:\n",
    "    data (DataFrame): The input dataset to be cleaned.\n",
    "\n",
    "    Returns:\n",
    "    DataFrame: The cleaned dataset.\n",
    "    \"\"\"\n",
    "    # Drop duplicate rows\n",
    "    data.drop_duplicates(inplace=True)\n",
    "\n",
    "    # Drop irrelevant columns\n",
    "    data.drop(['Raw num:', 'URL', 'ID number', 'Type of Sale', 'Locality', 'Zip code'], axis=1, inplace=True)\n",
    "\n",
    "    # Drop rows with NaN values in essential columns\n",
    "    data.dropna(subset=['Price of property in euro', 'Number of bedrooms', 'Living area'], inplace=True)\n",
    "\n",
    "    # Fill NaN values with 0 in specified columns\n",
    "    clean_values = {'Kitchen': 0, 'Terrace': 0, 'Garden': 0, 'Swimming pool': 0}\n",
    "    data.fillna(clean_values, inplace=True)\n",
    "\n",
    "    # Drop columns containing NaN values\n",
    "    data.dropna(axis='columns', inplace=True)\n",
    "\n",
    "    return data"
   ]
  },
  {
   "cell_type": "markdown",
   "metadata": {},
   "source": [
    "#### [intermezzo: check for unicity of property types and subtypes]"
   ]
  },
  {
   "cell_type": "code",
   "execution_count": 3,
   "metadata": {},
   "outputs": [
    {
     "data": {
      "text/plain": [
       "'\\n# this code makes sure there is no overlap between the subtypes of houses and apartments\\n\\nunique_values_property = data[\\'Type of property\\'].unique()\\nprint(\"The types of property:\", unique_values_property)\\n\\nunique_values_subtype = data[\\'Subtype of property\\'].unique()\\nprint(\"The subtypes of property:\", unique_values_subtype)\\n\\n# extract unique values from the \\'Subtype of property\\' column for houses and apartments\\nhouses = data[data[\\'Type of property\\'] == \\'house\\'][\\'Subtype of property\\'].unique()\\napartments = data[data[\\'Type of property\\'] == \\'apartment\\'][\\'Subtype of property\\'].unique()\\n\\nprint(\"The unique subtypes of houses:\", houses)\\nprint(\"The unique subtypes of apartments:\", apartments)\\n\\n# find the intersection of unique subtypes between houses and apartments\\nsubtype_overlap = set(houses) & set(apartments)\\n\\nif subtype_overlap:\\n    print(\"There is an overlap between subtypes of houses and apartments.\")\\n    print(\"Overlapping subtypes:\", subtype_overlap)\\nelse:\\n    print(\"There is no overlap between subtypes of houses and apartments.\")\\n\\n# so we can drop the \\'property type\\' column\\n\\n'"
      ]
     },
     "execution_count": 3,
     "metadata": {},
     "output_type": "execute_result"
    }
   ],
   "source": [
    "'''\n",
    "# this code makes sure there is no overlap between the subtypes of houses and apartments\n",
    "\n",
    "unique_values_property = data['Type of property'].unique()\n",
    "print(\"The types of property:\", unique_values_property)\n",
    "\n",
    "unique_values_subtype = data['Subtype of property'].unique()\n",
    "print(\"The subtypes of property:\", unique_values_subtype)\n",
    "\n",
    "# extract unique values from the 'Subtype of property' column for houses and apartments\n",
    "houses = data[data['Type of property'] == 'house']['Subtype of property'].unique()\n",
    "apartments = data[data['Type of property'] == 'apartment']['Subtype of property'].unique()\n",
    "\n",
    "print(\"The unique subtypes of houses:\", houses)\n",
    "print(\"The unique subtypes of apartments:\", apartments)\n",
    "\n",
    "# find the intersection of unique subtypes between houses and apartments\n",
    "subtype_overlap = set(houses) & set(apartments)\n",
    "\n",
    "if subtype_overlap:\n",
    "    print(\"There is an overlap between subtypes of houses and apartments.\")\n",
    "    print(\"Overlapping subtypes:\", subtype_overlap)\n",
    "else:\n",
    "    print(\"There is no overlap between subtypes of houses and apartments.\")\n",
    "\n",
    "# so we can drop the 'property type' column\n",
    "\n",
    "'''"
   ]
  },
  {
   "cell_type": "markdown",
   "metadata": {},
   "source": [
    "#### 1.3. Categorical and numerical data"
   ]
  },
  {
   "cell_type": "code",
   "execution_count": 4,
   "metadata": {},
   "outputs": [],
   "source": [
    "import pandas as pd\n",
    "\n",
    "def preprocess_data(data):\n",
    "    \"\"\"\n",
    "    Preprocess the input dataset by performing the following operations:\n",
    "    1. Drop the 'Type of property' column.\n",
    "    2. Perform one-hot encoding on the 'Subtype of property' column.\n",
    "    3. Drop the original 'Subtype of property' column.\n",
    "    4. Concatenate the one-hot encoded DataFrame with the original 'data' DataFrame.\n",
    "    5. Convert the entire DataFrame to integer type.\n",
    "\n",
    "    Parameters:\n",
    "    data (DataFrame): The input dataset to be preprocessed.\n",
    "\n",
    "    Returns:\n",
    "    DataFrame: The preprocessed dataset.\n",
    "    \"\"\"\n",
    "    # Drop the 'Type of property' column\n",
    "    data.drop(['Type of property'], axis=1, inplace=True)\n",
    "\n",
    "    # Perform one-hot encoding on the 'Subtype of property' column\n",
    "    one_hot_encoding = pd.get_dummies(data['Subtype of property'], prefix='Subtype', dtype=int)\n",
    "\n",
    "    # Drop the original 'Subtype of property' column\n",
    "    data.drop('Subtype of property', axis=1, inplace=True)\n",
    "\n",
    "    # Concatenate the one-hot encoded DataFrame with the original 'data' DataFrame\n",
    "    data = pd.concat([data, one_hot_encoding], axis=1)\n",
    "\n",
    "    # Convert the entire DataFrame to integer type\n",
    "    data = data.astype(int)\n",
    "\n",
    "    return data"
   ]
  },
  {
   "cell_type": "code",
   "execution_count": 15,
   "metadata": {},
   "outputs": [],
   "source": [
    "#remove features that have too strong correlation between them"
   ]
  },
  {
   "cell_type": "markdown",
   "metadata": {},
   "source": [
    "### 2. Data formatting"
   ]
  },
  {
   "cell_type": "markdown",
   "metadata": {},
   "source": [
    "#### 2.1. Divide dataset for training and testing"
   ]
  },
  {
   "cell_type": "code",
   "execution_count": 6,
   "metadata": {},
   "outputs": [],
   "source": [
    "def train_test_split_data(data, target_col='Price of property in euro', test_size=0.2, random_state=42):\n",
    "    # Separate the target variable (Price of property in euro) from the features\n",
    "    X = data.drop(target_col, axis=1)\n",
    "    y = data[target_col]\n",
    "\n",
    "    # Perform the Train-Test split with the specified ratio and random_state\n",
    "    X_train, X_test, y_train, y_test = train_test_split(X, y, test_size=test_size, random_state=random_state)\n",
    "    \n",
    "    return X_train, X_test, y_train, y_test"
   ]
  },
  {
   "cell_type": "code",
   "execution_count": 7,
   "metadata": {},
   "outputs": [],
   "source": [
    "def scale_data(X_train, X_test):\n",
    "    scaler = MinMaxScaler()\n",
    "    # Apply Min-Max scaling to the training data\n",
    "    X_train_scaled = scaler.fit_transform(X_train)\n",
    "\n",
    "    # Apply Min-Max scaling to the testing data\n",
    "    X_test_scaled = scaler.transform(X_test)\n",
    "\n",
    "    return X_train_scaled, X_test_scaled"
   ]
  },
  {
   "cell_type": "markdown",
   "metadata": {},
   "source": [
    "### 3. Model selection, model training, model scoring"
   ]
  },
  {
   "cell_type": "code",
   "execution_count": 8,
   "metadata": {},
   "outputs": [],
   "source": [
    "from sklearn.model_selection import train_test_split\n",
    "from sklearn.linear_model import LinearRegression\n",
    "from xgboost import XGBRegressor\n",
    "from sklearn.preprocessing import MinMaxScaler\n",
    "from sklearn.metrics import mean_squared_error, mean_absolute_error\n",
    "from sklearn.model_selection import cross_val_score\n",
    "\n",
    "def train_and_evaluate_model(model, X_train, X_test, y_train, y_test):\n",
    "    # Fit the model to the training data\n",
    "    model.fit(X_train, y_train)\n",
    "\n",
    "    # Make predictions on the test data\n",
    "    y_pred = model.predict(X_test)\n",
    "\n",
    "    # Calculate R2 score on the test data\n",
    "    r2_score = model.score(X_test, y_test)\n",
    "    print(\"R2 Score:\", r2_score)\n",
    "\n",
    "    # Calculate MSE\n",
    "    mse = mean_squared_error(y_test, y_pred)\n",
    "    print(\"Mean Squared Error:\", int(mse))\n",
    "\n",
    "    # Calculate RMSE\n",
    "    rmse = mean_squared_error(y_test, y_pred, squared=False)\n",
    "    print(\"Root Mean Squared Error:\", int(rmse))\n",
    "\n",
    "    # Calculate MAE\n",
    "    mae = mean_absolute_error(y_test, y_pred)\n",
    "    print(\"Mean Absolute Error:\", int(mae))\n",
    "\n",
    "    # Perform cross-validation (with num_folds deciding n-fold cross-validation)\n",
    "    num_folds = 5\n",
    "    scores = cross_val_score(model, X_train, y_train, cv=num_folds, scoring='neg_mean_squared_error')\n",
    "\n",
    "    # Convert the scores from negative MSE to positive RMSE\n",
    "    rmse_scores = -scores\n",
    "\n",
    "    # Calculate the mean and standard deviation of RMSE scores\n",
    "    mean_rmse = rmse_scores.mean()\n",
    "    std_rmse = rmse_scores.std()\n",
    "\n",
    "    print(\"Mean RMSE:\", int(mean_rmse))\n",
    "    print(\"Standard Deviation of RMSE:\", int(std_rmse))\n",
    "\n",
    "    # Return the model and the R2 score\n",
    "    return model, r2_score"
   ]
  },
  {
   "cell_type": "markdown",
   "metadata": {},
   "source": [
    "### 4. Model evaluation"
   ]
  },
  {
   "cell_type": "markdown",
   "metadata": {},
   "source": [
    "#### 4.1. Errors"
   ]
  },
  {
   "cell_type": "code",
   "execution_count": null,
   "metadata": {},
   "outputs": [],
   "source": [
    "from sklearn.metrics import mean_squared_error, mean_absolute_error\n",
    "\n",
    "# Calculate MSE\n",
    "mse = mean_squared_error(y_test, y_pred)\n",
    "print(\"Mean Squared Error:\", int(mse))\n",
    "\n",
    "# Calculate RMSE\n",
    "rmse = mean_squared_error(y_test, y_pred, squared=False)\n",
    "print(\"Root Mean Squared Error:\", int(rmse))\n",
    "\n",
    "# Calculate MAE\n",
    "mae = mean_absolute_error(y_test, y_pred)\n",
    "print(\"Mean Absolute Error:\", int(mae))"
   ]
  },
  {
   "cell_type": "markdown",
   "metadata": {},
   "source": [
    "#### 4.2. Crossvalidation"
   ]
  },
  {
   "cell_type": "code",
   "execution_count": null,
   "metadata": {},
   "outputs": [],
   "source": [
    "from sklearn.model_selection import cross_val_score\n",
    "\n",
    "# Perform cross-validation (with num_folds deciding n-fold cross-validation)\n",
    "num_folds = 5\n",
    "scores = cross_val_score(model, X_train, y_train, cv=num_folds, scoring='neg_mean_squared_error')\n",
    "\n",
    "# Convert the scores from negative MSE to positive RMSE\n",
    "rmse_scores = -scores\n",
    "\n",
    "# Calculate the mean and standard deviation of RMSE scores\n",
    "mean_rmse = rmse_scores.mean()\n",
    "std_rmse = rmse_scores.std()\n",
    "\n",
    "print(\"Mean RMSE:\", int(mean_rmse))\n",
    "print(\"Standard Deviation of RMSE:\", int(std_rmse))"
   ]
  },
  {
   "cell_type": "markdown",
   "metadata": {},
   "source": [
    "### 5. Main"
   ]
  },
  {
   "cell_type": "code",
   "execution_count": null,
   "metadata": {},
   "outputs": [],
   "source": [
    "# Load the scraped info from the .csv file into a dataframe\n",
    "file_path = \"../data/property_data.csv\"\n",
    "data = read_dataset(file_path)\n",
    "\n",
    "# Clean the data of duplicates, irrelevant columns and NaN's\n",
    "data = clean_data(data)\n",
    "\n",
    "# Preprocess data to deal with categorical and numerical data\n",
    "data = preprocess_data(data)\n",
    "\n",
    "# Split the data into training and testing sets\n",
    "X_train, X_test, y_train, y_test = train_test_split_data(data)\n",
    "\n",
    "# Scale the data\n",
    "X_train_scaled, X_test_scaled = scale_data(X_train, X_test)\n",
    "\n",
    "# Train and evaluate the linear regression model\n",
    "linear_regression_model = LinearRegression()\n",
    "linear_regression_model, linear_regression_score = train_and_evaluate_model(linear_regression_model, X_train_scaled, X_test_scaled, y_train, y_test)\n",
    "\n",
    "# Train and evaluate the XGBoost model\n",
    "xgboost_model = XGBRegressor()\n",
    "xgboost_model, xgboost_score = train_and_evaluate_model(xgboost_model, X_train_scaled, X_test_scaled, y_train, y_test)\n",
    "\n",
    "# Use the linear_regression_score and xgboost_score as needed\n",
    "print(\"Linear Regression Score:\", linear_regression_score)\n",
    "print(\"XGBoost Score:\", xgboost_score)"
   ]
  }
 ],
 "metadata": {
  "kernelspec": {
   "display_name": "eliza-2",
   "language": "python",
   "name": "python3"
  },
  "language_info": {
   "codemirror_mode": {
    "name": "ipython",
    "version": 3
   },
   "file_extension": ".py",
   "mimetype": "text/x-python",
   "name": "python",
   "nbconvert_exporter": "python",
   "pygments_lexer": "ipython3",
   "version": "3.11.3"
  },
  "orig_nbformat": 4
 },
 "nbformat": 4,
 "nbformat_minor": 2
}
